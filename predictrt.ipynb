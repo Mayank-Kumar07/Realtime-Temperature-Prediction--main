{
 "cells": [
  {
   "cell_type": "code",
   "execution_count": 1,
   "metadata": {},
   "outputs": [
    {
     "ename": "ModuleNotFoundError",
     "evalue": "No module named 'influxdb_client'",
     "output_type": "error",
     "traceback": [
      "\u001b[1;31m---------------------------------------------------------------------------\u001b[0m",
      "\u001b[1;31mModuleNotFoundError\u001b[0m                       Traceback (most recent call last)",
      "Cell \u001b[1;32mIn[1], line 3\u001b[0m\n\u001b[0;32m      1\u001b[0m \u001b[38;5;28;01mimport\u001b[39;00m \u001b[38;5;21;01mjoblib\u001b[39;00m\n\u001b[0;32m      2\u001b[0m \u001b[38;5;28;01mfrom\u001b[39;00m \u001b[38;5;21;01msklearn\u001b[39;00m\u001b[38;5;21;01m.\u001b[39;00m\u001b[38;5;21;01mensemble\u001b[39;00m \u001b[38;5;28;01mimport\u001b[39;00m RandomForestClassifier\n\u001b[1;32m----> 3\u001b[0m \u001b[38;5;28;01mfrom\u001b[39;00m \u001b[38;5;21;01minfluxdb_client\u001b[39;00m \u001b[38;5;28;01mimport\u001b[39;00m InfluxDBClient\n\u001b[0;32m      4\u001b[0m \u001b[38;5;28;01mfrom\u001b[39;00m \u001b[38;5;21;01minfluxdb_client\u001b[39;00m\u001b[38;5;21;01m.\u001b[39;00m\u001b[38;5;21;01mclient\u001b[39;00m\u001b[38;5;21;01m.\u001b[39;00m\u001b[38;5;21;01mwrite_api\u001b[39;00m \u001b[38;5;28;01mimport\u001b[39;00m SYNCHRONOUS\n\u001b[0;32m      5\u001b[0m \u001b[38;5;28;01mfrom\u001b[39;00m \u001b[38;5;21;01minfluxdb_client\u001b[39;00m \u001b[38;5;28;01mimport\u001b[39;00m Point, WritePrecision\n",
      "\u001b[1;31mModuleNotFoundError\u001b[0m: No module named 'influxdb_client'"
     ]
    }
   ],
   "source": [
    "import joblib\n",
    "from sklearn.ensemble import RandomForestClassifier\n",
    "from influxdb_client import InfluxDBClient\n",
    "from influxdb_client.client.write_api import SYNCHRONOUS\n",
    "from influxdb_client import Point, WritePrecision\n",
    "import time\n"
   ]
  },
  {
   "cell_type": "code",
   "execution_count": null,
   "metadata": {},
   "outputs": [],
   "source": [
    "# InfluxDB configuration\n",
    "url = 'http://localhost:8086'\n",
    "token = 'your influxdb token'\n",
    "org = 'Organisation name saved in influxdb'\n",
    "bucket = 'Your bucket name'"
   ]
  },
  {
   "cell_type": "code",
   "execution_count": null,
   "metadata": {},
   "outputs": [],
   "source": [
    "def fetch_most_recent_weather(city='delhi'):\n",
    "    try:\n",
    "        \n",
    "        client = InfluxDBClient(url=url, token=token, org=org)\n",
    "        \n",
    "        \n",
    "        query = f'from(bucket: \"{bucket}\") \\\n",
    "                  |> range(start: -1h) \\\n",
    "                  |> filter(fn: (r) => r[\"_measurement\"] == \"weather\" and r[\"_field\"] =~ /^(humidity|wind_speed|pressure)$/) \\\n",
    "                  |> filter(fn: (r) => r[\"city\"] == \"{city}\") \\\n",
    "                  |> last()'\n",
    "        \n",
    "        \n",
    "        tables = client.query_api().query(query=query)\n",
    "        \n",
    "        \n",
    "        humidity = None\n",
    "        wind_speed = None\n",
    "        pressure = None\n",
    "        timestamp = None\n",
    "        \n",
    "       \n",
    "        for table in tables:\n",
    "            for record in table.records:\n",
    "               \n",
    "                humidity = record.get_value()\n",
    "                wind_speed = record.get_value()\n",
    "                pressure = record.get_value()\n",
    "                timestamp = record.get_time()\n",
    "                \n",
    "            \n",
    "                print(f'City: {city}, Humidity: {humidity}%, Wind Speed: {wind_speed} m/s, Pressure: {pressure} hPa, Timestamp: {timestamp}')\n",
    "                \n",
    "                \n",
    "                return city, humidity, wind_speed, pressure\n",
    "    \n",
    "    except Exception as e:\n",
    "        print(f'Error fetching data from InfluxDB: {e}')\n",
    "    \n",
    "\n",
    "    return None, None, None, None\n",
    "\n",
    "\n",
    "city, humidity, wind_speed, pressure = fetch_most_recent_weather()"
   ]
  },
  {
   "cell_type": "code",
   "execution_count": null,
   "metadata": {},
   "outputs": [],
   "source": [
    "\n",
    "def load_model(file_path):\n",
    "    model = joblib.load(file_path)\n",
    "    return model\n",
    "\n",
    "model_path = r'saved random forest path'\n",
    "model = load_model(model_path)"
   ]
  },
  {
   "cell_type": "code",
   "execution_count": null,
   "metadata": {},
   "outputs": [],
   "source": [
    "def predict_weather(month, humidity, wind_speed, pressure, model):\n",
    "    features = [[month, humidity, wind_speed, pressure]]\n",
    "    prediction = model.predict(features)\n",
    "    return prediction"
   ]
  },
  {
   "cell_type": "code",
   "execution_count": null,
   "metadata": {},
   "outputs": [],
   "source": [
    "from datetime import datetime\n",
    "def findmonth():\n",
    "    current_datetime = datetime.now()\n",
    "    month = current_datetime.month\n",
    "    return month\n"
   ]
  },
  {
   "cell_type": "code",
   "execution_count": null,
   "metadata": {},
   "outputs": [],
   "source": [
    "month = findmonth()\n",
    "prediction = float(predict_weather(month, humidity, wind_speed, pressure, model))\n",
    "print(f'Mean Temperature: {prediction}')\n"
   ]
  },
  {
   "cell_type": "code",
   "execution_count": null,
   "metadata": {},
   "outputs": [],
   "source": [
    "def store_predicted_value(city, predicted_Temp):\n",
    "    try:\n",
    "       \n",
    "        client = InfluxDBClient(url=url, token=token, org=org)\n",
    "\n",
    "        \n",
    "        point = Point(\"predicted_Temp\") \\\n",
    "            .tag(\"city\", city) \\\n",
    "            .field(\"predicted_value\", predicted_Temp)\n",
    "\n",
    "        \n",
    "        write_api = client.write_api(write_options=SYNCHRONOUS)\n",
    "        write_api.write(bucket=bucket, record=point)\n",
    "\n",
    "        print(f'Predicted value {predicted_Temp} for {city} stored successfully in InfluxDB.')\n",
    "\n",
    "    except Exception as e:\n",
    "        print(f'Error storing predicted value in InfluxDB: {e}')\n"
   ]
  },
  {
   "cell_type": "code",
   "execution_count": null,
   "metadata": {},
   "outputs": [
    {
     "ename": "KeyboardInterrupt",
     "evalue": "",
     "output_type": "error",
     "traceback": [
      "\u001b[1;31m---------------------------------------------------------------------------\u001b[0m",
      "\u001b[1;31mKeyboardInterrupt\u001b[0m                         Traceback (most recent call last)",
      "Cell \u001b[1;32mIn[9], line 6\u001b[0m\n\u001b[0;32m      4\u001b[0m prediction \u001b[38;5;241m=\u001b[39m \u001b[38;5;28mfloat\u001b[39m(predict_weather(month, humidity, wind_speed, pressure, model))\n\u001b[0;32m      5\u001b[0m store_predicted_value(city, prediction)\n\u001b[1;32m----> 6\u001b[0m \u001b[43mtime\u001b[49m\u001b[38;5;241;43m.\u001b[39;49m\u001b[43msleep\u001b[49m\u001b[43m(\u001b[49m\u001b[38;5;241;43m10\u001b[39;49m\u001b[43m)\u001b[49m\n",
      "\u001b[1;31mKeyboardInterrupt\u001b[0m: "
     ]
    }
   ],
   "source": [
    "while True:\n",
    "    month = findmonth()\n",
    "    city, humidity, wind_speed, pressure = fetch_most_recent_weather()\n",
    "    prediction = float(predict_weather(month, humidity, wind_speed, pressure, model))\n",
    "    store_predicted_value(city, prediction)\n",
    "    time.sleep(10)"
   ]
  },
  {
   "cell_type": "code",
   "execution_count": null,
   "metadata": {},
   "outputs": [],
   "source": []
  }
 ],
 "metadata": {
  "kernelspec": {
   "display_name": "Python 3",
   "language": "python",
   "name": "python3"
  },
  "language_info": {
   "codemirror_mode": {
    "name": "ipython",
    "version": 3
   },
   "file_extension": ".py",
   "mimetype": "text/x-python",
   "name": "python",
   "nbconvert_exporter": "python",
   "pygments_lexer": "ipython3",
   "version": "3.11.4"
  }
 },
 "nbformat": 4,
 "nbformat_minor": 2
}
