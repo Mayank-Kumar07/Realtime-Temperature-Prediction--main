{
 "cells": [
  {
   "cell_type": "code",
   "execution_count": null,
   "metadata": {},
   "outputs": [],
   "source": [
    "import requests\n",
    "from influxdb_client import InfluxDBClient, Point\n",
    "from influxdb_client.client.write_api import SYNCHRONOUS"
   ]
  },
  {
   "cell_type": "code",
   "execution_count": null,
   "metadata": {},
   "outputs": [],
   "source": [
    "api_key = 'your openweather api key'\n",
    "city = 'delhi'"
   ]
  },
  {
   "cell_type": "code",
   "execution_count": null,
   "metadata": {},
   "outputs": [],
   "source": [
    "url1 = f'http://api.openweathermap.org/data/2.5/weather?q={city}&appid={api_key}&units=metric'"
   ]
  },
  {
   "cell_type": "code",
   "execution_count": null,
   "metadata": {},
   "outputs": [],
   "source": [
    "response = requests.get(url1)"
   ]
  },
  {
   "cell_type": "code",
   "execution_count": null,
   "metadata": {},
   "outputs": [],
   "source": [
    "url = 'http://localhost:8086'\n",
    "token = 'Influxdb token'\n",
    "org = 'Oragnisation name saved in influxdb'\n",
    "bucket = 'Bucket name'"
   ]
  },
  {
   "cell_type": "code",
   "execution_count": null,
   "metadata": {},
   "outputs": [],
   "source": [
    "def fetch_and_store_weather():\n",
    "    try:\n",
    "        response = requests.get(url1)\n",
    "        response.raise_for_status()  \n",
    "        \n",
    "        data = response.json()\n",
    "        \n",
    "        \n",
    "        humidity = data['main']['humidity']\n",
    "        wind_speed = data['wind']['speed']\n",
    "        pressure = data['main']['pressure']\n",
    "        temp = data['main']['temp']\n",
    "        \n",
    "        \n",
    "        client = InfluxDBClient(url=url, token=token, org=org)\n",
    "        \n",
    "        write_api = client.write_api(write_options=SYNCHRONOUS)\n",
    "        \n",
    "        \n",
    "        point = Point(\"weather\") \\\n",
    "            .tag(\"city\", city) \\\n",
    "            .field(\"humidity\", humidity) \\\n",
    "            .field(\"wind_speed\", wind_speed) \\\n",
    "            .field(\"pressure\", pressure)\\\n",
    "            .field(\"current_temp\",temp)\n",
    "        \n",
    "        \n",
    "        write_api.write(bucket=bucket, record=point)\n",
    "        \n",
    "        print(\"Weather data successfully stored in InfluxDB.\")\n",
    "\n",
    "    except requests.exceptions.HTTPError as http_err:\n",
    "        print(f'HTTP error occurred: {http_err}')\n",
    "    except Exception as err:\n",
    "        print(f'Other error occurred: {err}')"
   ]
  },
  {
   "cell_type": "code",
   "execution_count": null,
   "metadata": {},
   "outputs": [],
   "source": [
    "import time\n",
    "while True:\n",
    "    fetch_and_store_weather()\n",
    "    time.sleep(10)"
   ]
  },
  {
   "cell_type": "code",
   "execution_count": null,
   "metadata": {},
   "outputs": [],
   "source": []
  }
 ],
 "metadata": {
  "kernelspec": {
   "display_name": "Python 3",
   "language": "python",
   "name": "python3"
  },
  "language_info": {
   "codemirror_mode": {
    "name": "ipython",
    "version": 3
   },
   "file_extension": ".py",
   "mimetype": "text/x-python",
   "name": "python",
   "nbconvert_exporter": "python",
   "pygments_lexer": "ipython3",
   "version": "3.10.0"
  }
 },
 "nbformat": 4,
 "nbformat_minor": 2
}
